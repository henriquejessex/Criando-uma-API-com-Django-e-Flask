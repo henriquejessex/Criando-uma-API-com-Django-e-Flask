{
 "cells": [
  {
   "cell_type": "code",
   "execution_count": null,
   "id": "initial_id",
   "metadata": {
    "collapsed": true
   },
   "outputs": [],
   "source": [
    "!pip install django"
   ]
  },
  {
   "cell_type": "code",
   "execution_count": null,
   "id": "6224c6670b6bcc81",
   "metadata": {
    "collapsed": false
   },
   "outputs": [],
   "source": [
    "!django-admin startproject portifolio"
   ]
  },
  {
   "cell_type": "code",
   "execution_count": null,
   "id": "17417263538ba734",
   "metadata": {
    "collapsed": false
   },
   "outputs": [],
   "source": [
    "!cd C:/Users/henri/OneDrive/Documentos/DIO/Criando uma API com Django e Flask/Django/portifolio/\n",
    "!dir"
   ]
  },
  {
   "cell_type": "code",
   "execution_count": 14,
   "id": "bdae5215d09a7093",
   "metadata": {
    "collapsed": false
   },
   "outputs": [
    {
     "name": "stdout",
     "output_type": "stream",
     "text": [
      "^C\n"
     ]
    }
   ],
   "source": [
    "!python portifolio/manage.py runserver 8000    \n"
   ]
  }
 ],
 "metadata": {
  "kernelspec": {
   "display_name": "Python 3",
   "language": "python",
   "name": "python3"
  },
  "language_info": {
   "codemirror_mode": {
    "name": "ipython",
    "version": 3
   },
   "file_extension": ".py",
   "mimetype": "text/x-python",
   "name": "python",
   "nbconvert_exporter": "python",
   "pygments_lexer": "ipython3",
   "version": "3.11.7"
  }
 },
 "nbformat": 4,
 "nbformat_minor": 5
}
