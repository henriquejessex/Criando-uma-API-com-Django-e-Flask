{
 "cells": [
  {
   "cell_type": "code",
   "execution_count": null,
   "metadata": {},
   "outputs": [],
   "source": [
    "pip install flask_ngrok\n",
    "pip install pandas"
   ]
  },
  {
   "cell_type": "code",
   "execution_count": null,
   "metadata": {},
   "outputs": [],
   "source": [
    "import pandas as pd\n",
    "from flask_ngrok import run_with_ngrok\n",
    "from flask import request, jsonify, Flask\n",
    "import random as rk"
   ]
  },
  {
   "cell_type": "code",
   "execution_count": null,
   "metadata": {},
   "outputs": [],
   "source": [
    "app = Flask(__name__) #the name of the application package\n",
    "run_with_ngrok(app) "
   ]
  },
  {
   "cell_type": "code",
   "execution_count": null,
   "metadata": {},
   "outputs": [],
   "source": [
    "d = {\n",
    "    \"name\": \"Nikola\", \n",
    "    \"surname\": \"Tesla\", \n",
    "    \"idade\": 60\n",
    "      }"
   ]
  },
  {
   "cell_type": "code",
   "execution_count": null,
   "metadata": {},
   "outputs": [],
   "source": [
    "@app.route(\"/\") #code to assign HomePage URL in our app to function home.\n",
    "\n",
    "def home():\n",
    "  '''\n",
    "  The entire line below must be written in a single line.\n",
    "  '''\n",
    "  return \"<marquee><h3> TO CHECK IN PUT ADD '/input' TO THE URL AND TO CHECK OUT PUT ADD '/output' TO THE URL.</h3></marquee>\""
   ]
  },
  {
   "cell_type": "code",
   "execution_count": null,
   "metadata": {},
   "outputs": [],
   "source": [
    "@app.route(\"/input\") #code to assign Input URL in our app to function input.\n",
    "\n",
    "def input():\n",
    "  return jsonify(d) # \"d\" is the dictionary we defined"
   ]
  },
  {
   "cell_type": "code",
   "execution_count": null,
   "metadata": {},
   "outputs": [],
   "source": [
    "@app.route('/output', methods=['GET','POST']) #output page\n",
    "\n",
    "def predJson():\n",
    " pred = r.choice([\"positive\",\"negative\"])\n",
    " nd = d # our input\n",
    " nd[\"prediction\"]=pred\n",
    " return jsonify(nd)\n",
    "\n",
    "app.run()"
   ]
  }
 ],
 "metadata": {
  "kernelspec": {
   "display_name": "dio-venv",
   "language": "python",
   "name": "python3"
  },
  "language_info": {
   "codemirror_mode": {
    "name": "ipython",
    "version": 3
   },
   "file_extension": ".py",
   "mimetype": "text/x-python",
   "name": "python",
   "nbconvert_exporter": "python",
   "pygments_lexer": "ipython3",
   "version": "3.11.7"
  }
 },
 "nbformat": 4,
 "nbformat_minor": 2
}
