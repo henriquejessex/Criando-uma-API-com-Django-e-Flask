{
 "cells": [
  {
   "cell_type": "code",
   "execution_count": null,
   "id": "8062d28a2d03349a",
   "metadata": {
    "collapsed": false
   },
   "outputs": [],
   "source": [
    "!pip install fastapi nest-asyncio pyngrok uvicorn"
   ]
  },
  {
   "cell_type": "code",
   "execution_count": null,
   "id": "4236e3df81329f97",
   "metadata": {
    "collapsed": false
   },
   "outputs": [],
   "source": [
    "from fastapi import FastAPI\n",
    "import nest_asyncio\n",
    "from pyngrok import ngrok\n",
    "import uvicorn"
   ]
  },
  {
   "cell_type": "code",
   "execution_count": null,
   "id": "1eb79c8cb1db9a6",
   "metadata": {
    "collapsed": false
   },
   "outputs": [],
   "source": [
    "app = FastAPI()\n",
    "\n",
    "@app.get('/index')\n",
    "async def home():\n",
    "  return \"Hello World\"\n",
    "\n",
    "ngrok_tunnel = ngrok.connect(8000)\n",
    "print('Public URL:', ngrok_tunnel.public_url)\n",
    "nest_asyncio.apply()\n",
    "uvicorn.run(app, port=8000)"
   ]
  }
 ],
 "metadata": {
  "kernelspec": {
   "display_name": "Python 3",
   "language": "python",
   "name": "python3"
  },
  "language_info": {
   "codemirror_mode": {
    "name": "ipython",
    "version": 3
   },
   "file_extension": ".py",
   "mimetype": "text/x-python",
   "name": "python",
   "nbconvert_exporter": "python",
   "pygments_lexer": "ipython3",
   "version": "3.11.7"
  }
 },
 "nbformat": 4,
 "nbformat_minor": 5
}
