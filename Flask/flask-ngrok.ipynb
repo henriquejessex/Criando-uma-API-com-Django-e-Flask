{
 "cells": [
  {
   "cell_type": "code",
   "execution_count": null,
   "id": "initial_id",
   "metadata": {
    "ExecuteTime": {
     "end_time": "2024-01-04T01:20:00.360717700Z",
     "start_time": "2024-01-04T01:19:54.147626200Z"
    },
    "collapsed": true
   },
   "outputs": [],
   "source": [
    "!pip install flask\n",
    "!pip install flask-ngrok"
   ]
  },
  {
   "cell_type": "code",
   "execution_count": null,
   "id": "421bb2c3147788b3",
   "metadata": {
    "ExecuteTime": {
     "end_time": "2024-01-04T01:20:27.883421400Z",
     "start_time": "2024-01-04T01:20:27.834924700Z"
    },
    "collapsed": false
   },
   "outputs": [],
   "source": [
    "from flask import *\n",
    "from flask_ngrok import run_with_ngrok\n",
    "app = Flask(__name__)\n",
    "@app.route('/index')\n",
    "def home():\n",
    "  return 'Hello World'"
   ]
  },
  {
   "cell_type": "code",
   "execution_count": null,
   "id": "582b0d783aaff276",
   "metadata": {
    "ExecuteTime": {
     "end_time": "2024-01-04T01:21:13.936508900Z",
     "start_time": "2024-01-04T01:21:13.881583300Z"
    },
    "collapsed": false
   },
   "outputs": [],
   "source": [
    "run_with_ngrok(app)\n",
    "app.run()"
   ]
  }
 ],
 "metadata": {
  "kernelspec": {
   "display_name": "Python 3",
   "language": "python",
   "name": "python3"
  },
  "language_info": {
   "codemirror_mode": {
    "name": "ipython",
    "version": 3
   },
   "file_extension": ".py",
   "mimetype": "text/x-python",
   "name": "python",
   "nbconvert_exporter": "python",
   "pygments_lexer": "ipython3",
   "version": "3.11.7"
  }
 },
 "nbformat": 4,
 "nbformat_minor": 5
}
